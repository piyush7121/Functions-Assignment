{
  "nbformat": 4,
  "nbformat_minor": 0,
  "metadata": {
    "colab": {
      "provenance": []
    },
    "kernelspec": {
      "name": "python3",
      "display_name": "Python 3"
    },
    "language_info": {
      "name": "python"
    }
  },
  "cells": [
    {
      "cell_type": "markdown",
      "source": [
        "1. What is the difference between a function and a method in Python?"
      ],
      "metadata": {
        "id": "XsPi0-maBbaP"
      }
    },
    {
      "cell_type": "markdown",
      "source": [
        "A function is a block of reusable code that is not bound to an object, while a method is a function that is associated with an object (usually called on an object and defined in a class)."
      ],
      "metadata": {
        "id": "GSSwJysqBn5S"
      }
    },
    {
      "cell_type": "markdown",
      "source": [
        "2. Explain the concept of function arguments and parameters in Python?"
      ],
      "metadata": {
        "id": "Cv3pnc1_CDVM"
      }
    },
    {
      "cell_type": "markdown",
      "source": [
        "Parameters are the variable names defined in the function definition.\n",
        "\n",
        "Arguments are the actual values passed to the function when it is called."
      ],
      "metadata": {
        "id": "hcCm71TOCLFB"
      }
    },
    {
      "cell_type": "markdown",
      "source": [
        "3. What are the different ways to define and call a function in Python?"
      ],
      "metadata": {
        "id": "R1N-3oFtCmLj"
      }
    },
    {
      "cell_type": "markdown",
      "source": [
        "Python functions can be defined using `def` or `lambda`, with options like default parameters, variable arguments, nested functions, and recursion. You call them using their name and parentheses, passing arguments as needed—either positionally, by keyword, or relying on defaults. Simple, flexible, and powerful."
      ],
      "metadata": {
        "id": "mpUbQ0VfEhXN"
      }
    },
    {
      "cell_type": "markdown",
      "source": [
        "4. What is the purpose of the `return` statement in a Python function?"
      ],
      "metadata": {
        "id": "PTOng4QAEipe"
      }
    },
    {
      "cell_type": "markdown",
      "source": [
        "The return statement in Python is used to send a result back from a function to the caller."
      ],
      "metadata": {
        "id": "OitB2dpEEw0G"
      }
    },
    {
      "cell_type": "markdown",
      "source": [
        "5. What are iterators in Python and how do they differ from iterables?"
      ],
      "metadata": {
        "id": "6z0wgOSrExvt"
      }
    },
    {
      "cell_type": "markdown",
      "source": [
        "Iterables are objects you can loop over (like lists or strings), while Iterators are the tools that do the actual looping—one item at a time—remembering where they left off."
      ],
      "metadata": {
        "id": "Ei9U87cJFFtH"
      }
    },
    {
      "cell_type": "markdown",
      "source": [
        "6. Explain the concept of generators in Python and how they are defined."
      ],
      "metadata": {
        "id": "RRsTN-AaFIpx"
      }
    },
    {
      "cell_type": "markdown",
      "source": [
        "Generators in Python are a way to create iterators that yield values one at a time, making them memory-efficient for large data sets."
      ],
      "metadata": {
        "id": "5XAy1yuUFXlz"
      }
    },
    {
      "cell_type": "markdown",
      "source": [
        "7. What are the advantages of using generators over regular functions?"
      ],
      "metadata": {
        "id": "BHH9JDzPFoRe"
      }
    },
    {
      "cell_type": "markdown",
      "source": [
        "Generators are more memory-efficient than regular functions because they yield items one at a time instead of storing them all at once."
      ],
      "metadata": {
        "id": "S3mqdqSJFYc-"
      }
    },
    {
      "cell_type": "markdown",
      "source": [
        "8. What is a lambda function in Python and when is it typically used?"
      ],
      "metadata": {
        "id": "uFKnDbVbFvTi"
      }
    },
    {
      "cell_type": "markdown",
      "source": [
        "A lambda function in Python is a small, anonymous function defined using the lambda keyword. Its handy when you need a quick function without formally naming it or writing a full def block."
      ],
      "metadata": {
        "id": "7eUyn9_NFy9k"
      }
    },
    {
      "cell_type": "markdown",
      "source": [
        "9. Explain the purpose and usage of the `map()` function in Python."
      ],
      "metadata": {
        "id": "UlIXt_cOGDPV"
      }
    },
    {
      "cell_type": "markdown",
      "source": [
        "The map() function in Python is used to apply a given function to each item of an iterable (like a list) and return a map object"
      ],
      "metadata": {
        "id": "-WhyaTRhGH6h"
      }
    },
    {
      "cell_type": "markdown",
      "source": [
        "10. What is the difference between `map()`, `reduce()`, and `filter()` functions in Python?"
      ],
      "metadata": {
        "id": "4xUdvR9PGU4y"
      }
    },
    {
      "cell_type": "markdown",
      "source": [
        "map() transforms each item in an iterable using a given function.\n",
        "filter() keeps only the items that match a condition defined by a function.\n",
        "reduce() combines all items in an iterable into a single value using a function"
      ],
      "metadata": {
        "id": "8cH5rB-1GZh1"
      }
    },
    {
      "cell_type": "markdown",
      "source": [
        "1. Write a Python function that takes a list of numbers as input and returns the sum of all even numbers in\n",
        "the list."
      ],
      "metadata": {
        "id": "dn3KgWvjG_CH"
      }
    },
    {
      "cell_type": "code",
      "source": [
        "def sum_even_numbers(numbers):\n",
        "    sum = 0\n",
        "    for num in numbers:\n",
        "        if num % 2 == 0:\n",
        "            sum += num\n",
        "    return sum\n",
        "sum_even_numbers([1, 2, 3, 4, 5, 6, 7, 8, 9])\n"
      ],
      "metadata": {
        "colab": {
          "base_uri": "https://localhost:8080/"
        },
        "id": "N9gB5aGfHLeL",
        "outputId": "3e3e094f-1972-40a8-f0d0-fb27bd8c543d"
      },
      "execution_count": 3,
      "outputs": [
        {
          "output_type": "execute_result",
          "data": {
            "text/plain": [
              "20"
            ]
          },
          "metadata": {},
          "execution_count": 3
        }
      ]
    },
    {
      "cell_type": "markdown",
      "source": [
        "2. Create a Python function that accepts a string and returns the reverse of that string."
      ],
      "metadata": {
        "id": "CYGAWzfEH4Qq"
      }
    },
    {
      "cell_type": "code",
      "source": [
        "def reverse_string(string):\n",
        "    return string[::-1]\n",
        "reverse_string(\"hello\")"
      ],
      "metadata": {
        "colab": {
          "base_uri": "https://localhost:8080/",
          "height": 36
        },
        "id": "MPFDkoF5H7af",
        "outputId": "ad077607-6dab-44f5-b207-70696233131a"
      },
      "execution_count": 4,
      "outputs": [
        {
          "output_type": "execute_result",
          "data": {
            "text/plain": [
              "'olleh'"
            ],
            "application/vnd.google.colaboratory.intrinsic+json": {
              "type": "string"
            }
          },
          "metadata": {},
          "execution_count": 4
        }
      ]
    },
    {
      "cell_type": "markdown",
      "source": [
        "3. Implement a Python function that takes a list of integers and returns a new list containing the squares of\n",
        "each number."
      ],
      "metadata": {
        "id": "Vcb52YIqIF3S"
      }
    },
    {
      "cell_type": "code",
      "source": [
        "def square_numbers(numbers):\n",
        "    return [num**2 for num in numbers]\n",
        "square_numbers([1, 2, 3, 4, 5])"
      ],
      "metadata": {
        "colab": {
          "base_uri": "https://localhost:8080/"
        },
        "id": "9JXRZljIIK6N",
        "outputId": "8c7ca264-6a5b-4f9d-fefd-39605ca31e8b"
      },
      "execution_count": 5,
      "outputs": [
        {
          "output_type": "execute_result",
          "data": {
            "text/plain": [
              "[1, 4, 9, 16, 25]"
            ]
          },
          "metadata": {},
          "execution_count": 5
        }
      ]
    },
    {
      "cell_type": "markdown",
      "source": [
        "4. Write a Python function that checks if a given number is prime or not from 1 to 200."
      ],
      "metadata": {
        "id": "eWQ10nlRIkY-"
      }
    },
    {
      "cell_type": "code",
      "source": [
        "def is_prime(number):\n",
        "    if number < 2:\n",
        "        return False\n",
        "    for i in range(2, int(number**0.5) + 1):\n",
        "        if number % i == 0:\n",
        "            return False\n",
        "    return True\n",
        "is_prime(201)"
      ],
      "metadata": {
        "colab": {
          "base_uri": "https://localhost:8080/"
        },
        "id": "uTlTLjmAIn_4",
        "outputId": "5b137f6d-d56f-4a7f-d9ca-7a5df8e0f711"
      },
      "execution_count": 8,
      "outputs": [
        {
          "output_type": "execute_result",
          "data": {
            "text/plain": [
              "False"
            ]
          },
          "metadata": {},
          "execution_count": 8
        }
      ]
    },
    {
      "cell_type": "markdown",
      "source": [
        "5. Create an iterator class in Python that generates the Fibonacci sequence up to a specified number of\n",
        "terms."
      ],
      "metadata": {
        "id": "q52x2JpDI4kF"
      }
    },
    {
      "cell_type": "code",
      "source": [
        "def fibonacci_sequence(n):\n",
        "    a, b = 0, 1\n",
        "    for _ in range(n):\n",
        "        yield a\n",
        "        a, b = b, a + b\n",
        "fibonacci_sequence(10)\n",
        "next(fibonacci_sequence(10))\n"
      ],
      "metadata": {
        "colab": {
          "base_uri": "https://localhost:8080/"
        },
        "id": "68bfPN16I8ig",
        "outputId": "10aaf4c2-eba1-4a99-f54a-b691dc41e830"
      },
      "execution_count": 14,
      "outputs": [
        {
          "output_type": "execute_result",
          "data": {
            "text/plain": [
              "0"
            ]
          },
          "metadata": {},
          "execution_count": 14
        }
      ]
    },
    {
      "cell_type": "markdown",
      "source": [
        "6. Write a generator function in Python that yields the powers of 2 up to a given exponent."
      ],
      "metadata": {
        "id": "rkmsQzHwJo6b"
      }
    },
    {
      "cell_type": "code",
      "source": [
        "def powers_of_2(n):\n",
        "    for i in range(n + 1):\n",
        "        yield 2 ** i\n",
        "powers_of_2(10)\n",
        "next(powers_of_2(10))\n"
      ],
      "metadata": {
        "colab": {
          "base_uri": "https://localhost:8080/"
        },
        "id": "lOsfPJEVJpIT",
        "outputId": "51e4f570-e83f-4b1b-cebf-3ce6d2948e49"
      },
      "execution_count": 18,
      "outputs": [
        {
          "output_type": "execute_result",
          "data": {
            "text/plain": [
              "1"
            ]
          },
          "metadata": {},
          "execution_count": 18
        }
      ]
    },
    {
      "cell_type": "markdown",
      "source": [
        "7. Implement a generator function that reads a file line by line and yields each line as a string."
      ],
      "metadata": {
        "id": "cn1LFiMbKAoL"
      }
    },
    {
      "cell_type": "code",
      "source": [
        "def read_lines(filename):\n",
        "    with open(filename, 'r') as file:\n",
        "        for line in file:\n",
        "            yield line.strip()\n",
        "read_lines(\"test.txt\")\n",
        "next(read_lines(\"test.txt\"))"
      ],
      "metadata": {
        "id": "RkJ-ToCBKLYJ"
      },
      "execution_count": null,
      "outputs": []
    },
    {
      "cell_type": "markdown",
      "source": [
        "8. Use a lambda function in Python to sort a list of tuples based on the second element of each tuple."
      ],
      "metadata": {
        "id": "GowjlikYKH6B"
      }
    },
    {
      "cell_type": "code",
      "source": [
        "sort = lambda x: x.sort(key=lambda x: x[1])\n",
        "sort([(1, 2), (3, 1), (2, 3)])"
      ],
      "metadata": {
        "id": "bgzqRABlKUh0"
      },
      "execution_count": 21,
      "outputs": []
    },
    {
      "cell_type": "markdown",
      "source": [
        "9. Write a Python program that uses `map()` to convert a list of temperatures from Celsius to Fahrenheit."
      ],
      "metadata": {
        "id": "kHcxp1uhKksl"
      }
    },
    {
      "cell_type": "code",
      "source": [
        "map(lambda x: (x * 9/5) + 32, [10, 20, 30, 40, 50])"
      ],
      "metadata": {
        "colab": {
          "base_uri": "https://localhost:8080/"
        },
        "id": "wZ-Hw38NKpRx",
        "outputId": "3a6d21e4-8908-41f9-f2b2-323dba71c8ee"
      },
      "execution_count": 22,
      "outputs": [
        {
          "output_type": "execute_result",
          "data": {
            "text/plain": [
              "<map at 0x79fe93829480>"
            ]
          },
          "metadata": {},
          "execution_count": 22
        }
      ]
    },
    {
      "cell_type": "markdown",
      "source": [
        "10. Create a Python program that uses `filter()` to remove all the vowels from a given string."
      ],
      "metadata": {
        "id": "k3LyTdzMK0qV"
      }
    },
    {
      "cell_type": "code",
      "source": [
        "filter(lambda x: x not in \"aeiouAEIOU\", \"hello world\")"
      ],
      "metadata": {
        "colab": {
          "base_uri": "https://localhost:8080/"
        },
        "id": "05yaD7vxK1Oo",
        "outputId": "01e00d0b-fbd7-4202-862a-875475ce8a32"
      },
      "execution_count": 23,
      "outputs": [
        {
          "output_type": "execute_result",
          "data": {
            "text/plain": [
              "<filter at 0x79fe93c18e20>"
            ]
          },
          "metadata": {},
          "execution_count": 23
        }
      ]
    }
  ]
}